{
  "cells": [
    {
      "cell_type": "markdown",
      "metadata": {
        "id": "WS70_exDJt7A"
      },
      "source": [
        "1° Seção: Contexto\n",
        "\n",
        "**Brazilian Portuguese Sentiment Analysis Datasets**\n",
        "\n",
        "  Apesar dos recentes avanços da PNL, a língua portuguesa brasileira ainda possui recursos linguísticos limitados. Devido à escassez de conjuntos de dados de classificação de texto em português brasileiro e trabalhos comparando o desempenho de modelos de aprendizado de máquina em benchmarks com partições pré-definidas.\n",
        "\n",
        "  O Buscapé é um grande corpus de análises de produtos portugueses rastreados em 2013 com mais de 80.000 amostras do Buscapé, um site de busca de produtos e preços.\n",
        "\n",
        "  Ainda no contexto do dataset refere-se ao tratamento, como na etapa de pré-processamento onde a polaridade e classificação do conjunto são observados e adicionado um campo de usuários tokenizados e juntamente com tratamentos necessários. O repositório temporário selecionado foi o google Colab, pacotes para tratamento de palavras e importação de bibliotecas como Seaborn, Numpy, Spacy, Pandas e outros.\n",
        "\n",
        "  Quanto a implementação do modelo e parametrização com base no uso do LSTM e Dense, após tratamentos nos textos como: substituição de letras com acentos, transformações para minúsculo, Lemarização das palavras para trazê-las aos seu radical para redução de mesmos significados e outros...\n",
        "\n",
        "  O que faremos?\n",
        "  Nossa proposta é de desenvolvimento de um modelo utilizando redes neurais para a classificação de sentimento, através de revisões binárias (positivo e negativo) dos comentários gerados referentes aos produtos encontrados no buscapé.\n",
        "  \n",
        "  Preparamos e transformamos os comentários em sinteses menores eliminando palavras que não refletem sentimento (positivo ou negativo), resumindo cada vez mais os textos.\n",
        "\n",
        "  Nosso modelo obteve resultados como: (Acurácia 86,39%, precisão 85,58% e erro médio absoluto de 19,96%) onde ele foi capaz de classificar corretamente, 5 de 6 casos nos testes realizados e para confrontar este modelo aplicamos um segundo modelo para obtermos como base de comparação e desempenho (Acurácia 66,61%, precisão 75,00% e erro médio absoluto de 44,80%), este segundo modelo foi de redes neurais densa totalmente conectada uma camada oculta e com a mesma quantidade de neurônios da rede LSTM implementada anteriormente.\n",
        "\n",
        "\n",
        "  Para a realização deste projeto seguimos as etapas abaixo e descrevemos suas funções.\n",
        "\n",
        "Tarefas do projeto:\n",
        "- Preparação e pré processamento;\n",
        "- Implementação e parametrização do modelo;\n",
        "- Avaliação das métricas;\n",
        "- Construção do relatório."
      ]
    },
    {
      "cell_type": "markdown",
      "metadata": {
        "id": "8rNQF7esJIw0"
      },
      "source": [
        "# Preparação do ambiente e download do dataset"
      ]
    },
    {
      "cell_type": "markdown",
      "metadata": {
        "id": "Ty_dA-Shjs1s"
      },
      "source": [
        "A celula abaixo monta o repositório temporário do Google Colab."
      ]
    },
    {
      "cell_type": "code",
      "execution_count": null,
      "metadata": {
        "colab": {
          "base_uri": "https://localhost:8080/"
        },
        "id": "1zxe_Gl7j-OK",
        "outputId": "e550513d-5ef8-4859-a63e-0ad1c4197b57"
      },
      "outputs": [
        {
          "output_type": "stream",
          "name": "stdout",
          "text": [
            "Mounted at /content/drive\n"
          ]
        }
      ],
      "source": [
        "from google.colab import drive\n",
        "drive.mount('/content/drive');"
      ]
    },
    {
      "cell_type": "markdown",
      "metadata": {
        "id": "Hs7k-wG2SNYA"
      },
      "source": [
        "Download do pacote em português do SpaCy para tratamento de palavras"
      ]
    },
    {
      "cell_type": "code",
      "execution_count": null,
      "metadata": {
        "colab": {
          "base_uri": "https://localhost:8080/"
        },
        "id": "kA1Xhl8HSMJt",
        "outputId": "f2d90d19-e46c-4668-8504-452cf0ab4376"
      },
      "outputs": [
        {
          "output_type": "stream",
          "name": "stdout",
          "text": [
            "/usr/local/lib/python3.8/dist-packages/torch/cuda/__init__.py:497: UserWarning: Can't initialize NVML\n",
            "  warnings.warn(\"Can't initialize NVML\")\n",
            "2022-12-09 00:59:30.000868: E tensorflow/stream_executor/cuda/cuda_driver.cc:271] failed call to cuInit: CUDA_ERROR_NO_DEVICE: no CUDA-capable device is detected\n",
            "Looking in indexes: https://pypi.org/simple, https://us-python.pkg.dev/colab-wheels/public/simple/\n",
            "Collecting pt-core-news-sm==3.4.0\n",
            "  Downloading https://github.com/explosion/spacy-models/releases/download/pt_core_news_sm-3.4.0/pt_core_news_sm-3.4.0-py3-none-any.whl (13.0 MB)\n",
            "\u001b[K     |████████████████████████████████| 13.0 MB 9.8 MB/s \n",
            "\u001b[?25hRequirement already satisfied: spacy<3.5.0,>=3.4.0 in /usr/local/lib/python3.8/dist-packages (from pt-core-news-sm==3.4.0) (3.4.3)\n",
            "Requirement already satisfied: murmurhash<1.1.0,>=0.28.0 in /usr/local/lib/python3.8/dist-packages (from spacy<3.5.0,>=3.4.0->pt-core-news-sm==3.4.0) (1.0.9)\n",
            "Requirement already satisfied: langcodes<4.0.0,>=3.2.0 in /usr/local/lib/python3.8/dist-packages (from spacy<3.5.0,>=3.4.0->pt-core-news-sm==3.4.0) (3.3.0)\n",
            "Requirement already satisfied: preshed<3.1.0,>=3.0.2 in /usr/local/lib/python3.8/dist-packages (from spacy<3.5.0,>=3.4.0->pt-core-news-sm==3.4.0) (3.0.8)\n",
            "Requirement already satisfied: setuptools in /usr/local/lib/python3.8/dist-packages (from spacy<3.5.0,>=3.4.0->pt-core-news-sm==3.4.0) (57.4.0)\n",
            "Requirement already satisfied: wasabi<1.1.0,>=0.9.1 in /usr/local/lib/python3.8/dist-packages (from spacy<3.5.0,>=3.4.0->pt-core-news-sm==3.4.0) (0.10.1)\n",
            "Requirement already satisfied: cymem<2.1.0,>=2.0.2 in /usr/local/lib/python3.8/dist-packages (from spacy<3.5.0,>=3.4.0->pt-core-news-sm==3.4.0) (2.0.7)\n",
            "Requirement already satisfied: spacy-loggers<2.0.0,>=1.0.0 in /usr/local/lib/python3.8/dist-packages (from spacy<3.5.0,>=3.4.0->pt-core-news-sm==3.4.0) (1.0.3)\n",
            "Requirement already satisfied: jinja2 in /usr/local/lib/python3.8/dist-packages (from spacy<3.5.0,>=3.4.0->pt-core-news-sm==3.4.0) (2.11.3)\n",
            "Requirement already satisfied: requests<3.0.0,>=2.13.0 in /usr/local/lib/python3.8/dist-packages (from spacy<3.5.0,>=3.4.0->pt-core-news-sm==3.4.0) (2.23.0)\n",
            "Requirement already satisfied: typer<0.8.0,>=0.3.0 in /usr/local/lib/python3.8/dist-packages (from spacy<3.5.0,>=3.4.0->pt-core-news-sm==3.4.0) (0.7.0)\n",
            "Requirement already satisfied: pydantic!=1.8,!=1.8.1,<1.11.0,>=1.7.4 in /usr/local/lib/python3.8/dist-packages (from spacy<3.5.0,>=3.4.0->pt-core-news-sm==3.4.0) (1.10.2)\n",
            "Requirement already satisfied: pathy>=0.3.5 in /usr/local/lib/python3.8/dist-packages (from spacy<3.5.0,>=3.4.0->pt-core-news-sm==3.4.0) (0.10.0)\n",
            "Requirement already satisfied: spacy-legacy<3.1.0,>=3.0.10 in /usr/local/lib/python3.8/dist-packages (from spacy<3.5.0,>=3.4.0->pt-core-news-sm==3.4.0) (3.0.10)\n",
            "Requirement already satisfied: srsly<3.0.0,>=2.4.3 in /usr/local/lib/python3.8/dist-packages (from spacy<3.5.0,>=3.4.0->pt-core-news-sm==3.4.0) (2.4.5)\n",
            "Requirement already satisfied: thinc<8.2.0,>=8.1.0 in /usr/local/lib/python3.8/dist-packages (from spacy<3.5.0,>=3.4.0->pt-core-news-sm==3.4.0) (8.1.5)\n",
            "Requirement already satisfied: numpy>=1.15.0 in /usr/local/lib/python3.8/dist-packages (from spacy<3.5.0,>=3.4.0->pt-core-news-sm==3.4.0) (1.21.6)\n",
            "Requirement already satisfied: catalogue<2.1.0,>=2.0.6 in /usr/local/lib/python3.8/dist-packages (from spacy<3.5.0,>=3.4.0->pt-core-news-sm==3.4.0) (2.0.8)\n",
            "Requirement already satisfied: packaging>=20.0 in /usr/local/lib/python3.8/dist-packages (from spacy<3.5.0,>=3.4.0->pt-core-news-sm==3.4.0) (21.3)\n",
            "Requirement already satisfied: tqdm<5.0.0,>=4.38.0 in /usr/local/lib/python3.8/dist-packages (from spacy<3.5.0,>=3.4.0->pt-core-news-sm==3.4.0) (4.64.1)\n",
            "Requirement already satisfied: pyparsing!=3.0.5,>=2.0.2 in /usr/local/lib/python3.8/dist-packages (from packaging>=20.0->spacy<3.5.0,>=3.4.0->pt-core-news-sm==3.4.0) (3.0.9)\n",
            "Requirement already satisfied: smart-open<6.0.0,>=5.2.1 in /usr/local/lib/python3.8/dist-packages (from pathy>=0.3.5->spacy<3.5.0,>=3.4.0->pt-core-news-sm==3.4.0) (5.2.1)\n",
            "Requirement already satisfied: typing-extensions>=4.1.0 in /usr/local/lib/python3.8/dist-packages (from pydantic!=1.8,!=1.8.1,<1.11.0,>=1.7.4->spacy<3.5.0,>=3.4.0->pt-core-news-sm==3.4.0) (4.4.0)\n",
            "Requirement already satisfied: urllib3!=1.25.0,!=1.25.1,<1.26,>=1.21.1 in /usr/local/lib/python3.8/dist-packages (from requests<3.0.0,>=2.13.0->spacy<3.5.0,>=3.4.0->pt-core-news-sm==3.4.0) (1.24.3)\n",
            "Requirement already satisfied: idna<3,>=2.5 in /usr/local/lib/python3.8/dist-packages (from requests<3.0.0,>=2.13.0->spacy<3.5.0,>=3.4.0->pt-core-news-sm==3.4.0) (2.10)\n",
            "Requirement already satisfied: chardet<4,>=3.0.2 in /usr/local/lib/python3.8/dist-packages (from requests<3.0.0,>=2.13.0->spacy<3.5.0,>=3.4.0->pt-core-news-sm==3.4.0) (3.0.4)\n",
            "Requirement already satisfied: certifi>=2017.4.17 in /usr/local/lib/python3.8/dist-packages (from requests<3.0.0,>=2.13.0->spacy<3.5.0,>=3.4.0->pt-core-news-sm==3.4.0) (2022.9.24)\n",
            "Requirement already satisfied: confection<1.0.0,>=0.0.1 in /usr/local/lib/python3.8/dist-packages (from thinc<8.2.0,>=8.1.0->spacy<3.5.0,>=3.4.0->pt-core-news-sm==3.4.0) (0.0.3)\n",
            "Requirement already satisfied: blis<0.8.0,>=0.7.8 in /usr/local/lib/python3.8/dist-packages (from thinc<8.2.0,>=8.1.0->spacy<3.5.0,>=3.4.0->pt-core-news-sm==3.4.0) (0.7.9)\n",
            "Requirement already satisfied: click<9.0.0,>=7.1.1 in /usr/local/lib/python3.8/dist-packages (from typer<0.8.0,>=0.3.0->spacy<3.5.0,>=3.4.0->pt-core-news-sm==3.4.0) (7.1.2)\n",
            "Requirement already satisfied: MarkupSafe>=0.23 in /usr/local/lib/python3.8/dist-packages (from jinja2->spacy<3.5.0,>=3.4.0->pt-core-news-sm==3.4.0) (2.0.1)\n",
            "Installing collected packages: pt-core-news-sm\n",
            "Successfully installed pt-core-news-sm-3.4.0\n",
            "\u001b[38;5;2m✔ Download and installation successful\u001b[0m\n",
            "You can now load the package via spacy.load('pt_core_news_sm')\n"
          ]
        }
      ],
      "source": [
        "!python -m spacy download 'pt_core_news_sm';"
      ]
    },
    {
      "cell_type": "markdown",
      "metadata": {
        "id": "y57mI2aEIPXA"
      },
      "source": [
        "Importe para a raiz do Colab (/content/) o arquivo kaggle.json que tera seu Token de acesso. Para gerar seu token:\n",
        "\n",
        "1. Vá para sua conta, role até a seção API e clique em Expirar token de API para remover tokens anteriores\n",
        "2. Clique em Criar novo token de API - Ele fará o download do arquivo kaggle.json em sua máquina.\n"
      ]
    },
    {
      "cell_type": "code",
      "execution_count": null,
      "metadata": {
        "id": "XRK49sHKlAdz"
      },
      "outputs": [],
      "source": [
        "! mkdir ~/.kaggle\n",
        "! cp kaggle.json ~/.kaggle/\n",
        "! chmod 600 ~/.kaggle/kaggle.json"
      ]
    },
    {
      "cell_type": "markdown",
      "metadata": {
        "id": "ll28-C34Kwcz"
      },
      "source": [
        "Instalação do pacote keras"
      ]
    },
    {
      "cell_type": "code",
      "execution_count": null,
      "metadata": {
        "colab": {
          "base_uri": "https://localhost:8080/"
        },
        "id": "Pnch0g_HLG7R",
        "outputId": "ffd1b565-006b-49cd-b41d-7957d9d14e37"
      },
      "outputs": [
        {
          "output_type": "stream",
          "name": "stdout",
          "text": [
            "Looking in indexes: https://pypi.org/simple, https://us-python.pkg.dev/colab-wheels/public/simple/\n",
            "Requirement already satisfied: keras in /usr/local/lib/python3.8/dist-packages (2.9.0)\n"
          ]
        }
      ],
      "source": [
        "!pip install keras"
      ]
    },
    {
      "cell_type": "markdown",
      "metadata": {
        "id": "VuZg0DM7JBLc"
      },
      "source": [
        "Importação das bibliotecas que o notebook necessita"
      ]
    },
    {
      "cell_type": "code",
      "execution_count": null,
      "metadata": {
        "colab": {
          "base_uri": "https://localhost:8080/"
        },
        "id": "eQ-W5vMNldA6",
        "outputId": "6028816a-7763-4b0b-f074-aa73da026a23"
      },
      "outputs": [
        {
          "output_type": "stream",
          "name": "stderr",
          "text": [
            "/usr/local/lib/python3.8/dist-packages/torch/cuda/__init__.py:497: UserWarning: Can't initialize NVML\n",
            "  warnings.warn(\"Can't initialize NVML\")\n",
            "[nltk_data] Downloading package punkt to /root/nltk_data...\n",
            "[nltk_data]   Unzipping tokenizers/punkt.zip.\n",
            "[nltk_data] Downloading package stopwords to /root/nltk_data...\n",
            "[nltk_data]   Unzipping corpora/stopwords.zip.\n"
          ]
        }
      ],
      "source": [
        "import kaggle # Utilizado para carregar o conjunto de dados diretamento do kaggle;\n",
        "from zipfile import ZipFile # Utilizado para descompactacao dos arquivos ZIP\n",
        "import pandas as pd # Biblioteca que fornece ferramentas para analise e manipulacao dos dados\n",
        "import spacy #spaCy é uma biblioteca de código aberto para processamento de linguagem natural em Python. Possui NER, marcação POS, análise de dependência, vetores de palavras e outros;\n",
        "\n",
        "import nltk # Pacote utilizado para processamento de linguagem natural\n",
        "nltk.download('punkt') # Download do tokenizador de frases\n",
        "# Download de palavras frequentemente ignoradas pelos tokenizadores (um, uma, de, etc)\n",
        "nltk.download('stopwords')\n",
        "from nltk.corpus import stopwords\n",
        "\n",
        "import re #Este módulo fornece operações para correspondência de expressões regulares semelhantes às encontradas em Perl. O nome do módulo vem das iniciais do termo em inglês regular expressions, também frequentemente chamadas de regex.\n",
        "from unicodedata import normalize #normalizar é o ato de transformar strings (textos no padrão unicode) para uma forma normal onde os caracteres sempre terão a mesma representação binária em todo o seu programa.\n",
        "\n",
        "import warnings #As mensagens de aviso são normalmente emitidas em situações em que é útil alertar o usuário sobre alguma condição em um programa;\n",
        "warnings.filterwarnings(\"ignore\")"
      ]
    },
    {
      "cell_type": "markdown",
      "metadata": {
        "id": "kSWr285XVWnr"
      },
      "source": [
        "Importação, extração e atribuição do dataset na variavel df"
      ]
    },
    {
      "cell_type": "code",
      "execution_count": null,
      "metadata": {
        "colab": {
          "base_uri": "https://localhost:8080/"
        },
        "id": "PwRzwMCkPxsQ",
        "outputId": "b54e0fab-bf66-4cce-a437-dea4668a88b2"
      },
      "outputs": [
        {
          "output_type": "stream",
          "name": "stdout",
          "text": [
            "Downloading ptbr-sentiment-analysis-datasets.zip to /content\n",
            "100% 876M/877M [00:11<00:00, 34.7MB/s]\n",
            "100% 877M/877M [00:11<00:00, 79.2MB/s]\n"
          ]
        }
      ],
      "source": [
        "!kaggle datasets download -d fredericods/ptbr-sentiment-analysis-datasets\n",
        "df = (ZipFile('/content/ptbr-sentiment-analysis-datasets.zip').\n",
        "              extract('buscape.csv', path='/content/'))\n",
        "df = pd.read_csv('/content/buscape.csv', sep=',')"
      ]
    },
    {
      "cell_type": "markdown",
      "metadata": {
        "id": "oGVCjg6hWt2p"
      },
      "source": [
        "# Avaliação do Dataset"
      ]
    },
    {
      "cell_type": "code",
      "execution_count": null,
      "metadata": {
        "colab": {
          "base_uri": "https://localhost:8080/",
          "height": 754
        },
        "id": "yIA6R9kfSCr9",
        "outputId": "1590d65c-158e-4686-f48b-3a413a2fa99a"
      },
      "outputs": [
        {
          "output_type": "execute_result",
          "data": {
            "text/plain": [
              "   original_index  \\\n",
              "0         4_55516   \n",
              "1  minus_1_105339   \n",
              "2       23_382139   \n",
              "3        2_446456   \n",
              "4         0_11324   \n",
              "\n",
              "                                                                                                                                                                                                                                                                            review_text  \\\n",
              "0  Estou muito satisfeito, o visor é melhor do que eu imaginava, boas imagens, desing ultra fino. Pelo preço é um exelente aparelho.\\n\\nO que gostei: Desing exelente, display, custo beneficio.\\n\\nO que não gostei: Não tem como adicionar mais papeis de parede, bateria dura pouco.   \n",
              "1                                                                                                                                                                                                                 \"muito boa\\n\\nO que gostei: preco\\n\\nO que não gostei: poderia ser 42   \n",
              "2                                           Rápida, ótima qualidade de impressão e fácil de usar, principalmente no wi-fi.\\n\\nO que gostei: Produto exelente, rápida na impressão, imprime com qualidade de laser e ecônômica. Recomendo a todos\\n\\nO que não gostei: Nada que desabone   \n",
              "3                                                                                                                                                                                                                                       Produto de ótima qualidade em todos os quesito!   \n",
              "4                                                           Precisava comprar uma tv compatível com meu dvd. Esra foi a que tinha o melhor custo benefício. Estou satisfeita com a minha compra.\\n\\nO que gostei: preço mais baixo; produto de qualidade.\\n\\nO que não gostei: não tem.   \n",
              "\n",
              "                                                                                                                                                                                                                                                                  review_text_processed  \\\n",
              "0  estou muito satisfeito, o visor e melhor do que eu imaginava, boas imagens, desing ultra fino. pelo preco e um exelente aparelho.\\n\\no que gostei: desing exelente, display, custo beneficio.\\n\\no que nao gostei: nao tem como adicionar mais papeis de parede, bateria dura pouco.   \n",
              "1                                                                                                                                                                                                                 \"muito boa\\n\\no que gostei: preco\\n\\no que nao gostei: poderia ser 42   \n",
              "2                                           rapida, otima qualidade de impressao e facil de usar, principalmente no wi-fi.\\n\\no que gostei: produto exelente, rapida na impressao, imprime com qualidade de laser e economica. recomendo a todos\\n\\no que nao gostei: nada que desabone   \n",
              "3                                                                                                                                                                                                                                       produto de otima qualidade em todos os quesito!   \n",
              "4                                                           precisava comprar uma tv compativel com meu dvd. esra foi a que tinha o melhor custo beneficio. estou satisfeita com a minha compra.\\n\\no que gostei: preco mais baixo; produto de qualidade.\\n\\no que nao gostei: nao tem.   \n",
              "\n",
              "                                                                                                                                                                                                                                                                                                                                                               review_text_tokenized  \\\n",
              "0  ['estou', 'muito', 'satisfeito', 'visor', 'melhor', 'do', 'que', 'eu', 'imaginava', 'boas', 'imagens', 'desing', 'ultra', 'fino', 'pelo', 'preco', 'um', 'exelente', 'aparelho', 'que', 'gostei', 'desing', 'exelente', 'display', 'custo', 'beneficio', 'que', 'nao', 'gostei', 'nao', 'tem', 'como', 'adicionar', 'mais', 'papeis', 'de', 'parede', 'bateria', 'dura', 'pouco']   \n",
              "1                                                                                                                                                                                                                                                                                         ['muito', 'boa', 'que', 'gostei', 'preco', 'que', 'nao', 'gostei', 'poderia', 'ser', '42']   \n",
              "2                                                            ['rapida', 'otima', 'qualidade', 'de', 'impressao', 'facil', 'de', 'usar', 'principalmente', 'no', 'wi', 'fi', 'que', 'gostei', 'produto', 'exelente', 'rapida', 'na', 'impressao', 'imprime', 'com', 'qualidade', 'de', 'laser', 'economica', 'recomendo', 'todos', 'que', 'nao', 'gostei', 'nada', 'que', 'desabone']   \n",
              "3                                                                                                                                                                                                                                                                                                            ['produto', 'de', 'otima', 'qualidade', 'em', 'todos', 'os', 'quesito']   \n",
              "4                                                                            ['precisava', 'comprar', 'uma', 'tv', 'compativel', 'com', 'meu', 'dvd', 'esra', 'foi', 'que', 'tinha', 'melhor', 'custo', 'beneficio', 'estou', 'satisfeita', 'com', 'minha', 'compra', 'que', 'gostei', 'preco', 'mais', 'baixo', 'produto', 'de', 'qualidade', 'que', 'nao', 'gostei', 'nao', 'tem']   \n",
              "\n",
              "   polarity  rating  kfold_polarity  kfold_rating  \n",
              "0       1.0       4               1             1  \n",
              "1       1.0       5               1             1  \n",
              "2       1.0       5               1             1  \n",
              "3       1.0       5               1             1  \n",
              "4       1.0       5               1             1  "
            ],
            "text/html": [
              "\n",
              "  <div id=\"df-d6002e2d-9cb2-4262-9b86-08da5f7e3387\">\n",
              "    <div class=\"colab-df-container\">\n",
              "      <div>\n",
              "<style scoped>\n",
              "    .dataframe tbody tr th:only-of-type {\n",
              "        vertical-align: middle;\n",
              "    }\n",
              "\n",
              "    .dataframe tbody tr th {\n",
              "        vertical-align: top;\n",
              "    }\n",
              "\n",
              "    .dataframe thead th {\n",
              "        text-align: right;\n",
              "    }\n",
              "</style>\n",
              "<table border=\"1\" class=\"dataframe\">\n",
              "  <thead>\n",
              "    <tr style=\"text-align: right;\">\n",
              "      <th></th>\n",
              "      <th>original_index</th>\n",
              "      <th>review_text</th>\n",
              "      <th>review_text_processed</th>\n",
              "      <th>review_text_tokenized</th>\n",
              "      <th>polarity</th>\n",
              "      <th>rating</th>\n",
              "      <th>kfold_polarity</th>\n",
              "      <th>kfold_rating</th>\n",
              "    </tr>\n",
              "  </thead>\n",
              "  <tbody>\n",
              "    <tr>\n",
              "      <th>0</th>\n",
              "      <td>4_55516</td>\n",
              "      <td>Estou muito satisfeito, o visor é melhor do que eu imaginava, boas imagens, desing ultra fino. Pelo preço é um exelente aparelho.\\n\\nO que gostei: Desing exelente, display, custo beneficio.\\n\\nO que não gostei: Não tem como adicionar mais papeis de parede, bateria dura pouco.</td>\n",
              "      <td>estou muito satisfeito, o visor e melhor do que eu imaginava, boas imagens, desing ultra fino. pelo preco e um exelente aparelho.\\n\\no que gostei: desing exelente, display, custo beneficio.\\n\\no que nao gostei: nao tem como adicionar mais papeis de parede, bateria dura pouco.</td>\n",
              "      <td>['estou', 'muito', 'satisfeito', 'visor', 'melhor', 'do', 'que', 'eu', 'imaginava', 'boas', 'imagens', 'desing', 'ultra', 'fino', 'pelo', 'preco', 'um', 'exelente', 'aparelho', 'que', 'gostei', 'desing', 'exelente', 'display', 'custo', 'beneficio', 'que', 'nao', 'gostei', 'nao', 'tem', 'como', 'adicionar', 'mais', 'papeis', 'de', 'parede', 'bateria', 'dura', 'pouco']</td>\n",
              "      <td>1.0</td>\n",
              "      <td>4</td>\n",
              "      <td>1</td>\n",
              "      <td>1</td>\n",
              "    </tr>\n",
              "    <tr>\n",
              "      <th>1</th>\n",
              "      <td>minus_1_105339</td>\n",
              "      <td>\"muito boa\\n\\nO que gostei: preco\\n\\nO que não gostei: poderia ser 42</td>\n",
              "      <td>\"muito boa\\n\\no que gostei: preco\\n\\no que nao gostei: poderia ser 42</td>\n",
              "      <td>['muito', 'boa', 'que', 'gostei', 'preco', 'que', 'nao', 'gostei', 'poderia', 'ser', '42']</td>\n",
              "      <td>1.0</td>\n",
              "      <td>5</td>\n",
              "      <td>1</td>\n",
              "      <td>1</td>\n",
              "    </tr>\n",
              "    <tr>\n",
              "      <th>2</th>\n",
              "      <td>23_382139</td>\n",
              "      <td>Rápida, ótima qualidade de impressão e fácil de usar, principalmente no wi-fi.\\n\\nO que gostei: Produto exelente, rápida na impressão, imprime com qualidade de laser e ecônômica. Recomendo a todos\\n\\nO que não gostei: Nada que desabone</td>\n",
              "      <td>rapida, otima qualidade de impressao e facil de usar, principalmente no wi-fi.\\n\\no que gostei: produto exelente, rapida na impressao, imprime com qualidade de laser e economica. recomendo a todos\\n\\no que nao gostei: nada que desabone</td>\n",
              "      <td>['rapida', 'otima', 'qualidade', 'de', 'impressao', 'facil', 'de', 'usar', 'principalmente', 'no', 'wi', 'fi', 'que', 'gostei', 'produto', 'exelente', 'rapida', 'na', 'impressao', 'imprime', 'com', 'qualidade', 'de', 'laser', 'economica', 'recomendo', 'todos', 'que', 'nao', 'gostei', 'nada', 'que', 'desabone']</td>\n",
              "      <td>1.0</td>\n",
              "      <td>5</td>\n",
              "      <td>1</td>\n",
              "      <td>1</td>\n",
              "    </tr>\n",
              "    <tr>\n",
              "      <th>3</th>\n",
              "      <td>2_446456</td>\n",
              "      <td>Produto de ótima qualidade em todos os quesito!</td>\n",
              "      <td>produto de otima qualidade em todos os quesito!</td>\n",
              "      <td>['produto', 'de', 'otima', 'qualidade', 'em', 'todos', 'os', 'quesito']</td>\n",
              "      <td>1.0</td>\n",
              "      <td>5</td>\n",
              "      <td>1</td>\n",
              "      <td>1</td>\n",
              "    </tr>\n",
              "    <tr>\n",
              "      <th>4</th>\n",
              "      <td>0_11324</td>\n",
              "      <td>Precisava comprar uma tv compatível com meu dvd. Esra foi a que tinha o melhor custo benefício. Estou satisfeita com a minha compra.\\n\\nO que gostei: preço mais baixo; produto de qualidade.\\n\\nO que não gostei: não tem.</td>\n",
              "      <td>precisava comprar uma tv compativel com meu dvd. esra foi a que tinha o melhor custo beneficio. estou satisfeita com a minha compra.\\n\\no que gostei: preco mais baixo; produto de qualidade.\\n\\no que nao gostei: nao tem.</td>\n",
              "      <td>['precisava', 'comprar', 'uma', 'tv', 'compativel', 'com', 'meu', 'dvd', 'esra', 'foi', 'que', 'tinha', 'melhor', 'custo', 'beneficio', 'estou', 'satisfeita', 'com', 'minha', 'compra', 'que', 'gostei', 'preco', 'mais', 'baixo', 'produto', 'de', 'qualidade', 'que', 'nao', 'gostei', 'nao', 'tem']</td>\n",
              "      <td>1.0</td>\n",
              "      <td>5</td>\n",
              "      <td>1</td>\n",
              "      <td>1</td>\n",
              "    </tr>\n",
              "  </tbody>\n",
              "</table>\n",
              "</div>\n",
              "      <button class=\"colab-df-convert\" onclick=\"convertToInteractive('df-d6002e2d-9cb2-4262-9b86-08da5f7e3387')\"\n",
              "              title=\"Convert this dataframe to an interactive table.\"\n",
              "              style=\"display:none;\">\n",
              "        \n",
              "  <svg xmlns=\"http://www.w3.org/2000/svg\" height=\"24px\"viewBox=\"0 0 24 24\"\n",
              "       width=\"24px\">\n",
              "    <path d=\"M0 0h24v24H0V0z\" fill=\"none\"/>\n",
              "    <path d=\"M18.56 5.44l.94 2.06.94-2.06 2.06-.94-2.06-.94-.94-2.06-.94 2.06-2.06.94zm-11 1L8.5 8.5l.94-2.06 2.06-.94-2.06-.94L8.5 2.5l-.94 2.06-2.06.94zm10 10l.94 2.06.94-2.06 2.06-.94-2.06-.94-.94-2.06-.94 2.06-2.06.94z\"/><path d=\"M17.41 7.96l-1.37-1.37c-.4-.4-.92-.59-1.43-.59-.52 0-1.04.2-1.43.59L10.3 9.45l-7.72 7.72c-.78.78-.78 2.05 0 2.83L4 21.41c.39.39.9.59 1.41.59.51 0 1.02-.2 1.41-.59l7.78-7.78 2.81-2.81c.8-.78.8-2.07 0-2.86zM5.41 20L4 18.59l7.72-7.72 1.47 1.35L5.41 20z\"/>\n",
              "  </svg>\n",
              "      </button>\n",
              "      \n",
              "  <style>\n",
              "    .colab-df-container {\n",
              "      display:flex;\n",
              "      flex-wrap:wrap;\n",
              "      gap: 12px;\n",
              "    }\n",
              "\n",
              "    .colab-df-convert {\n",
              "      background-color: #E8F0FE;\n",
              "      border: none;\n",
              "      border-radius: 50%;\n",
              "      cursor: pointer;\n",
              "      display: none;\n",
              "      fill: #1967D2;\n",
              "      height: 32px;\n",
              "      padding: 0 0 0 0;\n",
              "      width: 32px;\n",
              "    }\n",
              "\n",
              "    .colab-df-convert:hover {\n",
              "      background-color: #E2EBFA;\n",
              "      box-shadow: 0px 1px 2px rgba(60, 64, 67, 0.3), 0px 1px 3px 1px rgba(60, 64, 67, 0.15);\n",
              "      fill: #174EA6;\n",
              "    }\n",
              "\n",
              "    [theme=dark] .colab-df-convert {\n",
              "      background-color: #3B4455;\n",
              "      fill: #D2E3FC;\n",
              "    }\n",
              "\n",
              "    [theme=dark] .colab-df-convert:hover {\n",
              "      background-color: #434B5C;\n",
              "      box-shadow: 0px 1px 3px 1px rgba(0, 0, 0, 0.15);\n",
              "      filter: drop-shadow(0px 1px 2px rgba(0, 0, 0, 0.3));\n",
              "      fill: #FFFFFF;\n",
              "    }\n",
              "  </style>\n",
              "\n",
              "      <script>\n",
              "        const buttonEl =\n",
              "          document.querySelector('#df-d6002e2d-9cb2-4262-9b86-08da5f7e3387 button.colab-df-convert');\n",
              "        buttonEl.style.display =\n",
              "          google.colab.kernel.accessAllowed ? 'block' : 'none';\n",
              "\n",
              "        async function convertToInteractive(key) {\n",
              "          const element = document.querySelector('#df-d6002e2d-9cb2-4262-9b86-08da5f7e3387');\n",
              "          const dataTable =\n",
              "            await google.colab.kernel.invokeFunction('convertToInteractive',\n",
              "                                                     [key], {});\n",
              "          if (!dataTable) return;\n",
              "\n",
              "          const docLinkHtml = 'Like what you see? Visit the ' +\n",
              "            '<a target=\"_blank\" href=https://colab.research.google.com/notebooks/data_table.ipynb>data table notebook</a>'\n",
              "            + ' to learn more about interactive tables.';\n",
              "          element.innerHTML = '';\n",
              "          dataTable['output_type'] = 'display_data';\n",
              "          await google.colab.output.renderOutput(dataTable, element);\n",
              "          const docLink = document.createElement('div');\n",
              "          docLink.innerHTML = docLinkHtml;\n",
              "          element.appendChild(docLink);\n",
              "        }\n",
              "      </script>\n",
              "    </div>\n",
              "  </div>\n",
              "  "
            ]
          },
          "metadata": {},
          "execution_count": 7
        }
      ],
      "source": [
        "pd.set_option('display.max_colwidth',None)\n",
        "df.head(5)"
      ]
    },
    {
      "cell_type": "markdown",
      "metadata": {
        "id": "UIy4tZ57JuMR"
      },
      "source": [
        "Deste este dataset, iremos utilizar as colunas 'review_text' e 'rating'.\n",
        "\n",
        "A coluna **rating** receberá os seguintes tratamento:\n",
        "   \n",
        "1. As avaliações 1, 2 e 3 serão substituídas por 'negativo'\n",
        "2. As avaliações 4 e 5 serão substituídas por 'positivo'\n",
        "\n",
        "A coluna **review_text** receberá os seguintes tratamento:\n",
        "\n",
        "1. Avaliação dos dados faltantes e duplicados;\n",
        "2. As letras serão padronizadas em minúsculo;\n",
        "3. Caracteres especiais e quebras de linha serão removidos;\n",
        "4. Serão removidos números dos textos;\n",
        "5. Palavras que não agregam na construção e na compreensão do contexto serão removidas (stopwords);\n",
        "6. As palavras serão trazidas aos seus radicais por técnica de \"Lemmarization\"\n",
        "\n",
        "\n",
        "\n",
        "\n"
      ]
    },
    {
      "cell_type": "markdown",
      "metadata": {
        "id": "ysD10TcsYRla"
      },
      "source": [
        "* Ajustes na coluna rating\n",
        "* Excluindo registros duplicados e registros vazios na coluna review_text"
      ]
    },
    {
      "cell_type": "code",
      "execution_count": null,
      "metadata": {
        "id": "nDuZnhFfVMsq"
      },
      "outputs": [],
      "source": [
        "df_change1 = pd.DataFrame(df[['review_text','rating']].assign(rating = ['positivo' if (x>3) else 'negativo' for x in df['rating']]))\n",
        "df_change1.drop_duplicates(subset=['review_text','rating'], keep='last', inplace=True)\n",
        "df_change1.dropna(subset=['review_text'], inplace=True)"
      ]
    },
    {
      "cell_type": "code",
      "execution_count": null,
      "metadata": {
        "colab": {
          "base_uri": "https://localhost:8080/"
        },
        "id": "mbGR6uLNbjmf",
        "outputId": "a3ad8d06-e76d-410b-e138-f601af89a947"
      },
      "outputs": [
        {
          "output_type": "stream",
          "name": "stdout",
          "text": [
            "<class 'pandas.core.frame.DataFrame'>\n",
            "Int64Index: 78754 entries, 0 to 84990\n",
            "Data columns (total 2 columns):\n",
            " #   Column       Non-Null Count  Dtype \n",
            "---  ------       --------------  ----- \n",
            " 0   review_text  78754 non-null  object\n",
            " 1   rating       78754 non-null  object\n",
            "dtypes: object(2)\n",
            "memory usage: 1.8+ MB\n"
          ]
        }
      ],
      "source": [
        "df_change1.info() #Este método imprime informações sobre um DataFrame, incluindo o índice dtype e colunas, valores não nulos e uso de memória."
      ]
    },
    {
      "cell_type": "markdown",
      "metadata": {
        "id": "0Ol3pAKv_TAm"
      },
      "source": [
        "Verifica a quantidade de avaliações positivas e negativas."
      ]
    },
    {
      "cell_type": "code",
      "execution_count": null,
      "metadata": {
        "colab": {
          "base_uri": "https://localhost:8080/"
        },
        "id": "tMAGO8xP-zU_",
        "outputId": "1c426974-b526-4774-b2ed-cbc87079ed8d"
      },
      "outputs": [
        {
          "output_type": "execute_result",
          "data": {
            "text/plain": [
              "positivo    60939\n",
              "negativo    17815\n",
              "Name: rating, dtype: int64"
            ]
          },
          "metadata": {},
          "execution_count": 10
        }
      ],
      "source": [
        "df_change1['rating'].value_counts()"
      ]
    },
    {
      "cell_type": "markdown",
      "metadata": {
        "id": "lJsNqB5W_l_v"
      },
      "source": [
        "Devido ao desbalanceamento, o dataset sera reduzido de forma aleatória nas avaliações positivas em uma proporção de duas avaliações positivas para cada avaliação negativa. Ou seja, serão removidos cerca de 40% dos registros com avaliação 4 ou 5 de forma aleatória.\n",
        "Fixaremos o Random State na função sample para que nao haja coleta aleatória a cada rodada do código e assim nao variar os resultados na fase de testes."
      ]
    },
    {
      "cell_type": "code",
      "execution_count": null,
      "metadata": {
        "colab": {
          "base_uri": "https://localhost:8080/"
        },
        "id": "oU0WL25CAWh6",
        "outputId": "8e554ce2-e87b-4a21-dcf7-1daad8fe4f41"
      },
      "outputs": [
        {
          "output_type": "execute_result",
          "data": {
            "text/plain": [
              "positivo    35630\n",
              "negativo    17815\n",
              "Name: rating, dtype: int64"
            ]
          },
          "metadata": {},
          "execution_count": 11
        }
      ],
      "source": [
        "perc_pos = (df_change1['rating'].value_counts()[1] * 2) / df_change1['rating'].value_counts()[0]\n",
        "df_change2 = (pd.merge(df_change1.loc[df_change1['rating'] =='negativo'],\n",
        "                                df_change1.loc[df_change1['rating'] =='positivo']\n",
        "                               .sample(frac=perc_pos, random_state=42), how='outer')\n",
        "             )\n",
        "df_change2['rating'].value_counts()"
      ]
    },
    {
      "cell_type": "markdown",
      "metadata": {
        "id": "Et98MV1TuAM6"
      },
      "source": [
        "Aplica as seguintes limpezas nos textos:\n",
        "* Substituição de letras com acentos por suas correspondentes ASCII\n",
        "* Transformação das letras para minúsculo\n",
        "* Lemarização das palavras para trazê-las ao seu radical, o que auxilia na diminuição da quantidade de variações de palavras com mesmo significado;\n",
        "* Remoção de números e caracteres especiais;\n",
        "* Remoção de quebras de linha e espaços duplos;\n",
        "* Remoção das stopwords (palavras não relevantes para um processo de associação);"
      ]
    },
    {
      "cell_type": "code",
      "execution_count": null,
      "metadata": {
        "id": "3XugcPcPnUnk"
      },
      "outputs": [],
      "source": [
        "def clean_text(dataframe):\n",
        "  stop = stopwords.words('portuguese')\n",
        "  lemma = spacy.load(\"pt_core_news_sm\",disable = ['parser','ner'])\n",
        "  df = (dataframe.astype('str')\n",
        "                 .apply(lambda x: normalize('NFKD', x).encode('ASCII','ignore').decode('ASCII'))\n",
        "                 .apply(lambda y: y.lower())\n",
        "                 .apply(lambda z: re.sub('[^a-z\\s]','',z))\n",
        "                 .apply(lambda t: lemma(t))\n",
        "                 .apply(lambda w: ' '.join([token.lemma_ for token in w]))\n",
        "                 .apply(lambda i: \" \".join(i.split()))\n",
        "                 .apply(lambda k: nltk.word_tokenize(k))\n",
        "                 .apply(lambda l: [item for item in l if item not in stop])\n",
        "                 .apply(lambda m: ' '.join(m))\n",
        "\n",
        "       )\n",
        "\n",
        "  return df\n",
        "\n",
        "df_change2['review_text_treated']=clean_text(df_change2['review_text'])"
      ]
    },
    {
      "cell_type": "markdown",
      "metadata": {
        "id": "GATJFP_S1wjD"
      },
      "source": [
        "Fixamos o número de palavras do vocabulário com as 3000 de maior recorrência"
      ]
    },
    {
      "cell_type": "code",
      "execution_count": null,
      "metadata": {
        "id": "e6sfJHe970zT"
      },
      "outputs": [],
      "source": [
        "from keras.preprocessing.text import Tokenizer # O módulo fornece um scanner léxico para código-fonte Python, implementado em Python. O scanner neste módulo também retorna comentários como tokens.\n",
        "\n",
        "tokenizador = Tokenizer(num_words=3000)\n",
        "tokenizador.fit_on_texts(df_change2['review_text_treated'].values)\n",
        "X = tokenizador.texts_to_sequences(df_change2['review_text_treated'].values)"
      ]
    },
    {
      "cell_type": "markdown",
      "metadata": {
        "id": "z_9nfrKsMc2r"
      },
      "source": [
        "No código abaixo fazemos com que cada amostra fique do mesmo tamanho, adicionando à cada lista zeros a esquerda, ou seja, a rede LSTM irá dar mais peso ao texto realmente escrito uma vez que dá maior peso aos valores mais recentes."
      ]
    },
    {
      "cell_type": "code",
      "execution_count": null,
      "metadata": {
        "colab": {
          "base_uri": "https://localhost:8080/"
        },
        "id": "voCAXLyMt_gw",
        "outputId": "d973b7dc-1928-4332-c59d-d8227d9906bc"
      },
      "outputs": [
        {
          "output_type": "stream",
          "name": "stdout",
          "text": [
            "463\n"
          ]
        }
      ],
      "source": [
        "from keras_preprocessing.sequence import pad_sequences # é usado para garantir que todas as sequências em uma lista tenham o mesmo comprimento. Por padrão, isso é feito preenchendo 0o início de cada sequência até que cada sequência tenha o mesmo comprimento que a sequência mais longa.\n",
        "\n",
        "maximo_comprimento = max(len(i) for i in X)\n",
        "print(maximo_comprimento)\n",
        "X = pad_sequences(X)"
      ]
    },
    {
      "cell_type": "markdown",
      "metadata": {
        "id": "iC8SXwqxNJ1w"
      },
      "source": [
        "Com a utilização da biblioteca \"scikit-learn\", faremos a divisão dos datasets de treino e teste, onde:\n",
        "* Y: é a variável alvo, os valores são coletados e transformados em arrays a partir da coluna rating\n",
        "* X: são as reviews em si, já pré-processadas conforme o código acima"
      ]
    },
    {
      "cell_type": "code",
      "execution_count": null,
      "metadata": {
        "colab": {
          "base_uri": "https://localhost:8080/"
        },
        "id": "ciu3vGUD9c9Q",
        "outputId": "ea4da259-cd5d-4479-e24f-2b0d04321a94"
      },
      "outputs": [
        {
          "output_type": "stream",
          "name": "stdout",
          "text": [
            "Tamanho do treino:  (37411, 463) (37411, 2)\n",
            "Tamanho do teste:  (16034, 463) (16034, 2)\n"
          ]
        }
      ],
      "source": [
        "from sklearn.model_selection import train_test_split\n",
        "\n",
        "Y = pd.get_dummies(df_change2['rating']).values # Aplicando one-hot-encoding na variável target\n",
        "x_treino, x_teste, y_treino, y_teste = train_test_split(X,Y, test_size = 0.3)\n",
        "print('Tamanho do treino: ', x_treino.shape, y_treino.shape)\n",
        "print('Tamanho do teste: ', x_teste.shape, y_teste.shape)"
      ]
    },
    {
      "cell_type": "code",
      "execution_count": null,
      "metadata": {
        "id": "7deJ6PrMNzWn"
      },
      "outputs": [],
      "source": [
        "from keras.models import Sequential\n",
        "from keras.layers import Dense, Embedding, LSTM\n",
        "from keras.metrics import TrueNegatives, FalseNegatives, TruePositives, FalsePositives, Precision, Recall, AUC\n",
        "import warnings\n",
        "warnings.filterwarnings('ignore')\n",
        "\n",
        "# Criando a rede neural:\n",
        "\n",
        "modelo = Sequential()\n",
        "modelo.add(Embedding(input_dim=3000, output_dim=200, input_length = X.shape[1]))\n",
        "# criando os vetores word embedding. X.shape[1] é o número de palavras que cada amostra tem.\n",
        "modelo.add(LSTM(150, dropout=0.3))\n",
        "# criando a LSTM (150 neurônios na camada oculta)\n",
        "modelo.add(Dense(2, activation='softmax'))\n",
        "# definindo a saída com 2 classes\n",
        "modelo.compile(loss='categorical_crossentropy', optimizer='adam',\n",
        "               metrics=['mean_squared_error', 'mean_absolute_error', 'accuracy',\n",
        "                        TrueNegatives(0.7, name='tn'), FalseNegatives(0.7, name='fn'), TruePositives(0.7, name='tp'), FalsePositives(0.7, name='fp'),\n",
        "                        Precision(thresholds=[0.3, 0.7], name='precision'), Recall(thresholds=[0.3, 0.7], name='recall'), AUC(thresholds=[0.3, 0.7], name='auc')])\n",
        "\n",
        "\n"
      ]
    },
    {
      "cell_type": "code",
      "execution_count": null,
      "metadata": {
        "colab": {
          "base_uri": "https://localhost:8080/"
        },
        "id": "Mbj6oMKfCLz6",
        "outputId": "4768edcb-748f-4cd5-bb3b-84f8d6c25880"
      },
      "outputs": [
        {
          "output_type": "stream",
          "name": "stdout",
          "text": [
            "Epoch 1/10\n",
            "75/75 - 611s - loss: 0.5360 - mean_squared_error: 0.1794 - mean_absolute_error: 0.3630 - accuracy: 0.7306 - tn: 34392.0000 - fn: 21234.0000 - tp: 16177.0000 - fp: 3019.0000 - precision: 0.7305 - recall: 0.6759 - auc: 0.7615 - 611s/epoch - 8s/step\n",
            "Epoch 2/10\n",
            "75/75 - 583s - loss: 0.4323 - mean_squared_error: 0.1380 - mean_absolute_error: 0.2776 - accuracy: 0.8054 - tn: 33824.0000 - fn: 12865.0000 - tp: 24546.0000 - fp: 3587.0000 - precision: 0.7985 - recall: 0.7801 - auc: 0.8496 - 583s/epoch - 8s/step\n",
            "Epoch 3/10\n",
            "75/75 - 586s - loss: 0.4092 - mean_squared_error: 0.1291 - mean_absolute_error: 0.2604 - accuracy: 0.8203 - tn: 33917.0000 - fn: 11726.0000 - tp: 25685.0000 - fp: 3494.0000 - precision: 0.8117 - recall: 0.7966 - auc: 0.8618 - 586s/epoch - 8s/step\n",
            "Epoch 4/10\n",
            "75/75 - 607s - loss: 0.3939 - mean_squared_error: 0.1236 - mean_absolute_error: 0.2495 - accuracy: 0.8285 - tn: 34116.0000 - fn: 11143.0000 - tp: 26268.0000 - fp: 3295.0000 - precision: 0.8212 - recall: 0.8070 - auc: 0.8714 - 607s/epoch - 8s/step\n",
            "Epoch 5/10\n",
            "75/75 - 578s - loss: 0.3797 - mean_squared_error: 0.1186 - mean_absolute_error: 0.2389 - accuracy: 0.8368 - tn: 34197.0000 - fn: 10617.0000 - tp: 26794.0000 - fp: 3214.0000 - precision: 0.8280 - recall: 0.8151 - auc: 0.8775 - 578s/epoch - 8s/step\n",
            "Epoch 6/10\n",
            "75/75 - 577s - loss: 0.3631 - mean_squared_error: 0.1131 - mean_absolute_error: 0.2291 - accuracy: 0.8434 - tn: 34321.0000 - fn: 10025.0000 - tp: 27386.0000 - fp: 3090.0000 - precision: 0.8363 - recall: 0.8247 - auc: 0.8849 - 577s/epoch - 8s/step\n",
            "Epoch 7/10\n",
            "75/75 - 578s - loss: 0.3456 - mean_squared_error: 0.1071 - mean_absolute_error: 0.2157 - accuracy: 0.8535 - tn: 34417.0000 - fn: 9429.0000 - tp: 27982.0000 - fp: 2994.0000 - precision: 0.8441 - recall: 0.8340 - auc: 0.8914 - 578s/epoch - 8s/step\n",
            "Epoch 8/10\n",
            "75/75 - 573s - loss: 0.3323 - mean_squared_error: 0.1030 - mean_absolute_error: 0.2081 - accuracy: 0.8593 - tn: 34545.0000 - fn: 9164.0000 - tp: 28247.0000 - fp: 2866.0000 - precision: 0.8491 - recall: 0.8392 - auc: 0.8963 - 573s/epoch - 8s/step\n",
            "Epoch 9/10\n",
            "75/75 - 588s - loss: 0.3193 - mean_squared_error: 0.0985 - mean_absolute_error: 0.1978 - accuracy: 0.8662 - tn: 34688.0000 - fn: 8674.0000 - tp: 28737.0000 - fp: 2723.0000 - precision: 0.8567 - recall: 0.8477 - auc: 0.9030 - 588s/epoch - 8s/step\n",
            "Epoch 10/10\n",
            "75/75 - 588s - loss: 0.3175 - mean_squared_error: 0.0983 - mean_absolute_error: 0.1996 - accuracy: 0.8639 - tn: 34757.0000 - fn: 8869.0000 - tp: 28542.0000 - fp: 2654.0000 - precision: 0.8558 - recall: 0.8460 - auc: 0.9035 - 588s/epoch - 8s/step\n"
          ]
        }
      ],
      "source": [
        "history = modelo.fit(x_treino,y_treino, batch_size = 500, epochs = 10, verbose = 2)"
      ]
    },
    {
      "cell_type": "code",
      "execution_count": null,
      "metadata": {
        "id": "P6dIIDBp5Uva",
        "colab": {
          "base_uri": "https://localhost:8080/"
        },
        "outputId": "22df87ea-b61a-4883-ba4f-b03f44974daf"
      },
      "outputs": [
        {
          "output_type": "stream",
          "name": "stderr",
          "text": [
            "WARNING:absl:Found untraced functions such as lstm_cell_layer_call_fn, lstm_cell_layer_call_and_return_conditional_losses while saving (showing 2 of 2). These functions will not be directly callable after loading.\n"
          ]
        }
      ],
      "source": [
        "# Realizando o salvamento do modelo 1 (Rede Neural com LSTM)\n",
        "import pickle\n",
        "\n",
        "!mkdir -p saved_model\n",
        "modelo.save('/content/drive/MyDrive/Models/modelo1')"
      ]
    },
    {
      "cell_type": "markdown",
      "metadata": {
        "id": "xp8svtUZs3Sl"
      },
      "source": [
        "# Modelo de Rede neural densa totalmente conectada"
      ]
    },
    {
      "cell_type": "code",
      "execution_count": null,
      "metadata": {
        "id": "MVnqr-XXV_PC"
      },
      "outputs": [],
      "source": [
        "modelo2 = Sequential()\n",
        "modelo2.add(Dense(3000, activation='relu', input_shape = (463,)))\n",
        "# criando os vetores word embedding. X.shape[1] é o número de palavras que cada amostra tem.\n",
        "modelo2.add(Dense(150, activation='relu'))\n",
        "modelo2.add(Dense(2,activation='softmax'))\n",
        "  # definindo a saída com 2 classes\n",
        "modelo2.compile(loss='categorical_crossentropy', optimizer='adam',\n",
        "               metrics=['mean_squared_error', 'mean_absolute_error', 'accuracy',\n",
        "                        TrueNegatives(0.7, name='tn'), FalseNegatives(0.7, name='fn'), TruePositives(0.7, name='tp'), FalsePositives(0.7, name='fp'),\n",
        "                        Precision(thresholds=[0.3, 0.7], name='precision'), Recall(thresholds=[0.3, 0.7], name='recall'), AUC(thresholds=[0.3, 0.7], name='auc')])\n"
      ]
    },
    {
      "cell_type": "code",
      "execution_count": null,
      "metadata": {
        "id": "8HjNveeOB5U_",
        "colab": {
          "base_uri": "https://localhost:8080/"
        },
        "outputId": "1b9e85f9-0bfc-4b88-fa72-7f1c063302dc"
      },
      "outputs": [
        {
          "output_type": "stream",
          "name": "stdout",
          "text": [
            "Epoch 1/10\n",
            "75/75 - 10s - loss: 9.4604 - mean_squared_error: 0.2673 - mean_absolute_error: 0.4919 - accuracy: 0.6496 - tn: 35562.0000 - fn: 35165.0000 - tp: 2246.0000 - fp: 1849.0000 - precision: 0.5256 - recall: 0.5053 - auc: 0.5100 - 10s/epoch - 138ms/step\n",
            "Epoch 2/10\n",
            "75/75 - 8s - loss: 0.6714 - mean_squared_error: 0.2392 - mean_absolute_error: 0.4877 - accuracy: 0.6661 - tn: 37411.0000 - fn: 37411.0000 - tp: 0.0000e+00 - fp: 0.0000e+00 - precision: 0.2500 - recall: 0.5000 - auc: 0.5000 - 8s/epoch - 104ms/step\n",
            "Epoch 3/10\n",
            "75/75 - 6s - loss: 0.6588 - mean_squared_error: 0.2329 - mean_absolute_error: 0.4787 - accuracy: 0.6661 - tn: 37411.0000 - fn: 37411.0000 - tp: 0.0000e+00 - fp: 0.0000e+00 - precision: 0.2500 - recall: 0.5000 - auc: 0.5000 - 6s/epoch - 82ms/step\n",
            "Epoch 4/10\n",
            "75/75 - 7s - loss: 0.6500 - mean_squared_error: 0.2286 - mean_absolute_error: 0.4709 - accuracy: 0.6661 - tn: 37411.0000 - fn: 37411.0000 - tp: 0.0000e+00 - fp: 0.0000e+00 - precision: 0.2500 - recall: 0.5000 - auc: 0.5000 - 7s/epoch - 89ms/step\n",
            "Epoch 5/10\n",
            "75/75 - 6s - loss: 0.6444 - mean_squared_error: 0.2259 - mean_absolute_error: 0.4644 - accuracy: 0.6661 - tn: 37411.0000 - fn: 37411.0000 - tp: 0.0000e+00 - fp: 0.0000e+00 - precision: 0.2500 - recall: 0.5000 - auc: 0.5000 - 6s/epoch - 84ms/step\n",
            "Epoch 6/10\n",
            "75/75 - 6s - loss: 0.6410 - mean_squared_error: 0.2243 - mean_absolute_error: 0.4590 - accuracy: 0.6661 - tn: 37411.0000 - fn: 37410.0000 - tp: 1.0000 - fp: 0.0000e+00 - precision: 0.7500 - recall: 0.5000 - auc: 0.5000 - 6s/epoch - 82ms/step\n",
            "Epoch 7/10\n",
            "75/75 - 6s - loss: 0.6390 - mean_squared_error: 0.2234 - mean_absolute_error: 0.4549 - accuracy: 0.6661 - tn: 37411.0000 - fn: 37410.0000 - tp: 1.0000 - fp: 0.0000e+00 - precision: 0.7500 - recall: 0.5000 - auc: 0.5000 - 6s/epoch - 82ms/step\n",
            "Epoch 8/10\n",
            "75/75 - 6s - loss: 0.6380 - mean_squared_error: 0.2229 - mean_absolute_error: 0.4518 - accuracy: 0.6661 - tn: 37411.0000 - fn: 37410.0000 - tp: 1.0000 - fp: 0.0000e+00 - precision: 0.7500 - recall: 0.5000 - auc: 0.5000 - 6s/epoch - 85ms/step\n",
            "Epoch 9/10\n",
            "75/75 - 6s - loss: 0.6374 - mean_squared_error: 0.2226 - mean_absolute_error: 0.4496 - accuracy: 0.6661 - tn: 37411.0000 - fn: 37410.0000 - tp: 1.0000 - fp: 0.0000e+00 - precision: 0.7500 - recall: 0.5000 - auc: 0.5000 - 6s/epoch - 81ms/step\n",
            "Epoch 10/10\n",
            "75/75 - 6s - loss: 0.6371 - mean_squared_error: 0.2225 - mean_absolute_error: 0.4480 - accuracy: 0.6661 - tn: 37411.0000 - fn: 37410.0000 - tp: 1.0000 - fp: 0.0000e+00 - precision: 0.7500 - recall: 0.5000 - auc: 0.5000 - 6s/epoch - 83ms/step\n"
          ]
        }
      ],
      "source": [
        "history2 = modelo2.fit(x_treino,y_treino, batch_size = 500, epochs = 10, verbose = 2)"
      ]
    },
    {
      "cell_type": "code",
      "execution_count": null,
      "metadata": {
        "id": "iIBBDXicMuxL"
      },
      "outputs": [],
      "source": [
        "# Realizando o salvamento do modelo 2 (Rede Neural Densa totalmente conectada)\n",
        "\n",
        "!mkdir -p saved_model\n",
        "modelo2.save('/content/drive/MyDrive/Models/modelo2')"
      ]
    },
    {
      "cell_type": "markdown",
      "metadata": {
        "id": "d04qwoxIDFTs"
      },
      "source": [
        "# Avaliação da performance dos modelos"
      ]
    },
    {
      "cell_type": "code",
      "execution_count": null,
      "metadata": {
        "id": "gcG6HMDv5O75",
        "colab": {
          "base_uri": "https://localhost:8080/",
          "height": 422
        },
        "outputId": "05ad2b87-8758-43c3-dfd4-5d7846132e65"
      },
      "outputs": [
        {
          "output_type": "execute_result",
          "data": {
            "image/png": "[encoded data removed]",
            "text/plain": [
              "<IPython.core.display.Image object>"
            ]
          },
          "metadata": {},
          "execution_count": 22
        }
      ],
      "source": [
        "from keras.utils import plot_model #Converte um modelo Keras em formato de ponto e salva em um arquivo.\n",
        "\n",
        "# Exibindo informações do modelo 1 (Sequências, Camadas e Formatos Input-Output)\n",
        "plot_model(modelo, to_file='modelo.png', show_shapes=True, show_layer_names=False)\n",
        "\n",
        "# InputLayer: Camada de entrada dos dados ao modelo, com formato 463 (texto com padding)\n",
        "# Embedding: Camada com formato de entrada 463 e formato de saída (463, 200)\n",
        "# LSTM: Camada com formato de entrada (463, 200) e formato de saída 150\n",
        "# Dense: Camada com formato de entrada 150 e formato de saída 2 (0 = negativo ou 1 = positivo)"
      ]
    },
    {
      "cell_type": "code",
      "execution_count": null,
      "metadata": {
        "id": "S47rYOS6N7GZ",
        "colab": {
          "base_uri": "https://localhost:8080/",
          "height": 699
        },
        "outputId": "29d1b61e-d5a8-4f51-c46a-921955595ede"
      },
      "outputs": [
        {
          "output_type": "display_data",
          "data": {
            "text/plain": [
              "<Figure size 432x288 with 1 Axes>"
            ],
            "image/png": "[encoded data removed]"
          },
          "metadata": {
            "needs_background": "light"
          }
        },
        {
          "output_type": "display_data",
          "data": {
            "text/plain": [
              "<Figure size 432x288 with 1 Axes>"
            ],
            "image/png": "[encoded data removed]"
          },
          "metadata": {
            "needs_background": "light"
          }
        },
        {
          "output_type": "stream",
          "name": "stdout",
          "text": [
            "\n",
            "Médias:\n",
            "\n",
            "Acurácia: 83.08%\n",
            "Precisão: 82.32%\n",
            "Recall: 80.66%\n",
            "AUC: 87.01%\n"
          ]
        }
      ],
      "source": [
        "from matplotlib import pyplot # método bar () para fazer gráficos de barras ou linhas;\n",
        "import numpy as np\n",
        "\n",
        "# Plotando gráfico de linhas, exibindo valores de performance do modelo ao decorrer das épocas\n",
        "\n",
        "pyplot.title('Performance do modelo 1')\n",
        "pyplot.xlabel('Épocas')\n",
        "pyplot.plot(history.history['accuracy']) # Acurácia\n",
        "pyplot.plot(history.history['precision']) # Precisão\n",
        "pyplot.plot(history.history['recall']) # Recall\n",
        "pyplot.plot(history.history['auc']) # AUC\n",
        "pyplot.legend(['Acurácia', 'Precisão', 'Recall', 'AUC'], loc=\"upper left\")\n",
        "pyplot.show()\n",
        "\n",
        "pyplot.title('Performance de erros do modelo 1')\n",
        "pyplot.xlabel('Épocas')\n",
        "pyplot.plot(history.history['mean_squared_error']) # Erro Quadrático Médio\n",
        "pyplot.plot(history.history['mean_absolute_error']) # Erro Absoluto Médio\n",
        "pyplot.legend(['MSE', 'MAE'], loc=\"upper left\")\n",
        "pyplot.show()\n",
        "\n",
        "print('\\nMédias:\\n')\n",
        "print(f\"Acurácia: {round(np.array(history.history['accuracy']).mean() * 100, 2)}%\")\n",
        "print(f\"Precisão: {round(np.array(history.history['precision']).mean() * 100, 2)}%\")\n",
        "print(f\"Recall: {round(np.array(history.history['recall']).mean() * 100, 2)}%\")\n",
        "print(f\"AUC: {round(np.array(history.history['auc']).mean() * 100, 2)}%\")"
      ]
    },
    {
      "cell_type": "markdown",
      "metadata": {
        "id": "rHb6PN9rIdZ0"
      },
      "source": [
        "Exibindo heatmap com Verdadeiros Positivos, Falsos Positivos, Verdadeiros Negativos e Falsos Negativos ao decorrer das épocas"
      ]
    },
    {
      "cell_type": "code",
      "execution_count": null,
      "metadata": {
        "id": "0_iqrV1P_KrZ",
        "colab": {
          "base_uri": "https://localhost:8080/",
          "height": 592
        },
        "outputId": "4e9bf650-4660-4156-d658-8aa85ecd8cb2"
      },
      "outputs": [
        {
          "output_type": "display_data",
          "data": {
            "text/plain": [
              "<Figure size 1080x720 with 2 Axes>"
            ],
            "image/png": "[encoded data removed]"
          },
          "metadata": {
            "needs_background": "light"
          }
        }
      ],
      "source": [
        "import seaborn as sns # usada na criação de gráficos estatísticos, sendo capaz de se integrar com estrutura de dados da biblioteca pandas.\n",
        "\n",
        "# Atribuindo valores do histórico do modelo 1 em um DataFrame\n",
        "pos_neg = pd.DataFrame()\n",
        "pos_neg['Verdadeiros Positivos'] = history.history['tp']\n",
        "pos_neg['Falsos Positivos'] = history.history['fp']\n",
        "pos_neg['Verdadeiros Negativos'] = history.history['tn']\n",
        "pos_neg['Falsos Negativos'] = history.history['fn']\n",
        "\n",
        "fig, ax = pyplot.subplots(figsize=(15, 10))\n",
        "# Atribuindo DataFrame ao heatmap e formatando as labels do eixo y\n",
        "sns.heatmap(pos_neg, annot=True, yticklabels=[f'Época {e + 1}' for e in history.epoch], cmap='Blues')\n",
        "ax.invert_yaxis() # Invertendo o eixo y, para que as épocas sejam exibidas de forma decrescente\n",
        "pyplot.show()"
      ]
    },
    {
      "cell_type": "code",
      "execution_count": null,
      "metadata": {
        "id": "8TqwpK5fz6ws",
        "colab": {
          "base_uri": "https://localhost:8080/",
          "height": 422
        },
        "outputId": "8a22f07d-5467-4ccf-9427-475f8e9467e9"
      },
      "outputs": [
        {
          "output_type": "execute_result",
          "data": {
            "image/png": "[encoded data removed]",
            "text/plain": [
              "<IPython.core.display.Image object>"
            ]
          },
          "metadata": {},
          "execution_count": 26
        }
      ],
      "source": [
        "from keras.utils import plot_model\n",
        "# Exibindo informações do modelo 2 (Sequências, Camadas e Formatos Input-Output)\n",
        "plot_model(modelo2, to_file='modelo2.png', show_shapes=True, show_layer_names=False)\n",
        "\n",
        "# InputLayer: Camada de entrada dos dados ao modelo, com formato 463 (texto com padding)\n",
        "# Dense: Camada com formato de entrada 463 e formato de saída 3000\n",
        "# Dense: Camada com formato de entrada 3000 e formato de saída 150\n",
        "# Dense: Camada com formato de entrada 150 e formato de saída 2 (0 = negativo ou 1 = positivo)"
      ]
    },
    {
      "cell_type": "code",
      "execution_count": null,
      "metadata": {
        "id": "10zpyKTkz-pO",
        "colab": {
          "base_uri": "https://localhost:8080/",
          "height": 699
        },
        "outputId": "cdf910b7-6407-4776-e3ac-f9abc9302d98"
      },
      "outputs": [
        {
          "output_type": "display_data",
          "data": {
            "text/plain": [
              "<Figure size 432x288 with 1 Axes>"
            ],
            "image/png": "[encoded data removed]"
          },
          "metadata": {
            "needs_background": "light"
          }
        },
        {
          "output_type": "display_data",
          "data": {
            "text/plain": [
              "<Figure size 432x288 with 1 Axes>"
            ],
            "image/png": "[encoded data removed]"
          },
          "metadata": {
            "needs_background": "light"
          }
        },
        {
          "output_type": "stream",
          "name": "stdout",
          "text": [
            "\n",
            "Médias:\n",
            "\n",
            "Acurácia: 66.44%\n",
            "Precisão: 52.76%\n",
            "Recall: 50.05%\n",
            "AUC: 50.1%\n"
          ]
        }
      ],
      "source": [
        "# Plotando gráfico de linhas, exibindo valores de performance do modelo ao decorrer das épocas\n",
        "pyplot.title('Performance do modelo 2')\n",
        "pyplot.xlabel('Épocas')\n",
        "pyplot.plot(history2.history['accuracy']) # Acurácia\n",
        "pyplot.plot(history2.history['precision']) # Precisão\n",
        "pyplot.plot(history2.history['recall']) # Recall\n",
        "pyplot.plot(history2.history['auc']) # AUC\n",
        "pyplot.legend(['Acurácia', 'Precisão', 'Recall', 'AUC'], loc=\"upper left\")\n",
        "pyplot.show()\n",
        "\n",
        "pyplot.title('Performance de erros do modelo 2')\n",
        "pyplot.xlabel('Épocas')\n",
        "pyplot.plot(history2.history['mean_squared_error']) # Erro Quadrático Médio\n",
        "pyplot.plot(history2.history['mean_absolute_error']) # Erro Absoluto Médio\n",
        "pyplot.legend(['MSE', 'MAE'], loc=\"upper left\")\n",
        "pyplot.show()\n",
        "\n",
        "print('\\nMédias:\\n')\n",
        "print(f\"Acurácia: {round(np.array(history2.history['accuracy']).mean() * 100, 2)}%\")\n",
        "print(f\"Precisão: {round(np.array(history2.history['precision']).mean() * 100, 2)}%\")\n",
        "print(f\"Recall: {round(np.array(history2.history['recall']).mean() * 100, 2)}%\")\n",
        "print(f\"AUC: {round(np.array(history2.history['auc']).mean() * 100, 2)}%\")"
      ]
    },
    {
      "cell_type": "markdown",
      "metadata": {
        "id": "XivWXZeBIadj"
      },
      "source": [
        "Exibindo heatmap com Verdadeiros Positivos, Falsos Positivos, Verdadeiros Negativos e Falsos Negativos ao decorrer das épocas"
      ]
    },
    {
      "cell_type": "code",
      "execution_count": null,
      "metadata": {
        "id": "T2dZzjhQ0D6-",
        "colab": {
          "base_uri": "https://localhost:8080/",
          "height": 592
        },
        "outputId": "b9a3c35b-92d6-44cc-d94f-7fc668302edb"
      },
      "outputs": [
        {
          "output_type": "display_data",
          "data": {
            "text/plain": [
              "<Figure size 1080x720 with 2 Axes>"
            ],
            "image/png": "[encoded data removed]"
          },
          "metadata": {
            "needs_background": "light"
          }
        }
      ],
      "source": [
        "# Atribuindo valores do histórico do modelo 2 em um DataFrame\n",
        "pos_neg_2 = pd.DataFrame()\n",
        "pos_neg_2['Verdadeiros Positivos'] = history2.history['tp']\n",
        "pos_neg_2['Falsos Positivos'] = history2.history['fp']\n",
        "pos_neg_2['Verdadeiros Negativos'] = history2.history['tn']\n",
        "pos_neg_2['Falsos Negativos'] = history2.history['fn']\n",
        "\n",
        "fig, ax = pyplot.subplots(figsize=(15, 10))\n",
        "# Atribuindo DataFrame ao heatmap e formatando as labels do eixo y\n",
        "sns.heatmap(pos_neg_2, annot=True, yticklabels=[f'Época {e + 1}' for e in history2.epoch], cmap='Blues')\n",
        "ax.invert_yaxis() # Invertendo o eixo y, para que as épocas sejam exibidas de forma decrescente\n",
        "pyplot.show()"
      ]
    },
    {
      "cell_type": "markdown",
      "metadata": {
        "id": "96xB5GmkDQLW"
      },
      "source": [
        "# Realização de testes com os modelos treinados\n",
        "\n",
        "Executamos nossa própria review com os modelos treinados, com o objetivo de testar a classificação dos modelos"
      ]
    },
    {
      "cell_type": "code",
      "execution_count": null,
      "metadata": {
        "id": "lu2d9fRu-v4K",
        "colab": {
          "base_uri": "https://localhost:8080/"
        },
        "outputId": "16ad5430-b26e-4948-e35a-ce6da972bdbe"
      },
      "outputs": [
        {
          "output_type": "stream",
          "name": "stdout",
          "text": [
            "------------------------------------------------\n",
            "Review: Gostei muito do relógio. Super fácil e prático, além de ser bem barato. Parabéns.\n",
            "------------------------------------------------\n",
            "\n",
            "MODELO 1\n",
            "\n",
            "AVALIAÇÃO POSITIVA!\n",
            "Sentimento positivo com probabilidade de: 99.94% \n",
            "Sentimento negativo com probabilidade de: 0.06% \n",
            "\n",
            "MODELO 2\n",
            "\n",
            "AVALIAÇÃO POSITIVA!\n",
            "Sentimento positivo com probabilidade de: 65.86% \n",
            "Sentimento negativo com probabilidade de: 34.14% \n",
            "\n",
            "------------------------------------------------\n",
            "Review: Achei o relógio horrível. Não tem muitas funcionalidades e a bateria acaba muito rápido. Basicamente dinheiro jogado no lixo\n",
            "------------------------------------------------\n",
            "\n",
            "MODELO 1\n",
            "\n",
            "AVALIAÇÃO NEGATIVA!\n",
            "Sentimento positivo com probabilidade de 0.35% \n",
            "Sentimento negativo com probabilidade de: 99.65% \n",
            "\n",
            "MODELO 2\n",
            "\n",
            "AVALIAÇÃO POSITIVA!\n",
            "Sentimento positivo com probabilidade de: 65.86% \n",
            "Sentimento negativo com probabilidade de: 34.14% \n",
            "\n",
            "------------------------------------------------\n",
            "Review: Um péssimo negócio.\n",
            "------------------------------------------------\n",
            "\n",
            "MODELO 1\n",
            "\n",
            "AVALIAÇÃO NEGATIVA!\n",
            "Sentimento positivo com probabilidade de 23.07% \n",
            "Sentimento negativo com probabilidade de: 76.93% \n",
            "\n",
            "MODELO 2\n",
            "\n",
            "AVALIAÇÃO POSITIVA!\n",
            "Sentimento positivo com probabilidade de: 65.86% \n",
            "Sentimento negativo com probabilidade de: 34.14% \n",
            "\n",
            "------------------------------------------------\n",
            "Review: Uma excelente compra!\n",
            "------------------------------------------------\n",
            "\n",
            "MODELO 1\n",
            "\n",
            "AVALIAÇÃO POSITIVA!\n",
            "Sentimento positivo com probabilidade de: 97.87% \n",
            "Sentimento negativo com probabilidade de: 2.13% \n",
            "\n",
            "MODELO 2\n",
            "\n",
            "AVALIAÇÃO POSITIVA!\n",
            "Sentimento positivo com probabilidade de: 65.86% \n",
            "Sentimento negativo com probabilidade de: 34.14% \n",
            "\n",
            "------------------------------------------------\n",
            "Review: É bom, mas nada demais.\n",
            "------------------------------------------------\n",
            "\n",
            "MODELO 1\n",
            "\n",
            "AVALIAÇÃO POSITIVA!\n",
            "Sentimento positivo com probabilidade de: 87.13% \n",
            "Sentimento negativo com probabilidade de: 12.87% \n",
            "\n",
            "MODELO 2\n",
            "\n",
            "AVALIAÇÃO POSITIVA!\n",
            "Sentimento positivo com probabilidade de: 65.86% \n",
            "Sentimento negativo com probabilidade de: 34.14% \n",
            "\n",
            "------------------------------------------------\n",
            "Review: Não muito bom, o outro era melhor\n",
            "------------------------------------------------\n",
            "\n",
            "MODELO 1\n",
            "\n",
            "AVALIAÇÃO POSITIVA!\n",
            "Sentimento positivo com probabilidade de: 87.34% \n",
            "Sentimento negativo com probabilidade de: 12.66% \n",
            "\n",
            "MODELO 2\n",
            "\n",
            "AVALIAÇÃO POSITIVA!\n",
            "Sentimento positivo com probabilidade de: 65.86% \n",
            "Sentimento negativo com probabilidade de: 34.14% \n",
            "\n"
          ]
        }
      ],
      "source": [
        "import numpy as np\n",
        "\n",
        "# Escrevendo algumas revisões para testar no modelo treinado\n",
        "review1 = [\"Gostei muito do relógio. Super fácil e prático, além de ser bem barato. Parabéns.\",\n",
        "           \"Achei o relógio horrível. Não tem muitas funcionalidades e a bateria acaba muito rápido. Basicamente dinheiro jogado no lixo\",\n",
        "           \"Um péssimo negócio.\",\n",
        "           'Uma excelente compra!',\n",
        "           'É bom, mas nada demais.',\n",
        "           'Não muito bom, o outro era melhor']\n",
        "for i in review1:\n",
        "  df_teste = pd.DataFrame()\n",
        "  df_teste['review'] = [i]\n",
        "  df_teste['review_treated'] = clean_text(df_teste['review'])\n",
        "\n",
        "  x_revisao = tokenizador.texts_to_sequences(df_teste['review_treated'].values)\n",
        "  x_revisao = pad_sequences(x_revisao, maxlen=463)\n",
        "\n",
        "  print('------------------------------------------------')\n",
        "  print(f'Review: {i}')\n",
        "  print('------------------------------------------------\\n')\n",
        "\n",
        "  # Executar a review com o modelo treinado e exibir os resultados\n",
        "  modelos = [modelo, modelo2]\n",
        "\n",
        "  for m in modelos:\n",
        "    print(f'MODELO {modelos.index(m) + 1}\\n')\n",
        "\n",
        "    pred_revisao = m.predict(x_revisao, batch_size=1, verbose = 0)[0]\n",
        "\n",
        "    if(np.argmax(pred_revisao) == 0):\n",
        "      pred_proba_pos = \"%.2f%%\" % (pred_revisao[1]*100)\n",
        "      pred_proba_neg = \"%.2f%%\" % (pred_revisao[0]*100)\n",
        "      print(\"AVALIAÇÃO NEGATIVA!\\nSentimento positivo com probabilidade de\",\n",
        "            pred_proba_pos,'\\nSentimento negativo com probabilidade de:', pred_proba_neg,'\\n')\n",
        "\n",
        "    elif (np.argmax(pred_revisao) == 1):\n",
        "      pred_proba_pos = \"%.2f%%\" % (pred_revisao[1]*100)\n",
        "      pred_proba_neg = \"%.2f%%\" % (pred_revisao[0]*100)\n",
        "      print(\"AVALIAÇÃO POSITIVA!\\nSentimento positivo com probabilidade de:\",\n",
        "            pred_proba_pos,\"\\nSentimento negativo com probabilidade de:\", pred_proba_neg,'\\n')"
      ]
    },
    {
      "cell_type": "markdown",
      "metadata": {
        "id": "09O7Pk1CWNuc"
      },
      "source": [
        "**Resultados obtidos:**\n",
        "--------------------------------------\n",
        "Quando verificamos os resultados obtidos por modelo, o primeiro modelo, ou Modelo 1, obteve uma maior precisão para encontrar o verdadeiro sentido da frase, sendo que a única frase que recebeu uma avaliação incorreta, possuia uma séria de palavras com viés positivo, o que de certa forma confunde o modelo. Quanto ao Modelo 2, ele acabou avaliando de forma similar todas as frases como possivelmente positivas, o que nos leva a considerar uma possível readequação e reavaliação do modelo no futuro.\n",
        "<p>Abaixo são encontrados os resultados obtidos em cada frase pelos modelos:\n",
        "\n",
        "---------------------------------------\n",
        "<p>Frase 1 : Positiva. 🔼\n",
        "<p>Gostei muito do relógio. Super fácil e prático, além de ser bem barato. Parabéns.\n",
        "\n",
        "*   Modelo 1: 99.94% Positiva ✅\n",
        "*   Modelo 2: 65.86% Positiva ✅\n",
        "---------------------------------------\n",
        "<p>Frase 2 : Negativa. 🔻\n",
        "<p>Achei o relógio horrível. Não tem muitas funcionalidades e a bateria acaba muito rápido. Basicamente dinheiro jogado no lixo.\n",
        "\n",
        "*   Modelo 1: 99.65% Negativa ✅\n",
        "*   Modelo 2: 34.14% Negativa ❌\n",
        "---------------------------------------\n",
        "<p>Frase 3 : Negativa. 🔻\n",
        "<p>Um péssimo negócio.\n",
        "\n",
        "*   Modelo 1: 76.93% Negativa ✅\n",
        "*   Modelo 2: 34.14% Negativa ❌\n",
        "\n",
        "---------------------------------------\n",
        "<p>Frase 4 : Positiva. 🔼\n",
        "<p>Uma excelente compra!\n",
        "\n",
        "*   Modelo 1: 97.87% Positiva ✅\n",
        "*   Modelo 2: 65.86% Positiva ✅\n",
        "---------------------------------------\n",
        "<p>Frase 5 : Positiva. 🔼\n",
        "<p>É bom, mas nada demais.\n",
        "\n",
        "*   Modelo 1: 87.13% Positiva ✅\n",
        "*   Modelo 2: 65.86% Positiva ✅\n",
        "---------------------------------------\n",
        "<p>Frase 6 : Negativa. 🔻\n",
        "<p>Não muito bom, o outro era melhor.\n",
        "\n",
        "*   Modelo 1: 12.66% Negativa ❌\n",
        "*   Modelo 2: 34.14% Negativa ❌\n",
        "---------------------------------------"
      ]
    },
    {
      "cell_type": "markdown",
      "source": [
        "Ao implementarmos as métricas de avaliação do modelo 2, encontramos algumas dificuldades como:\n",
        "\n",
        "* Os componentes da matriz de confusão se somados após o término do treino resultam no dobro de dados que temos e não conseguimos encontrar a solução para este problema na literatura.\n",
        "* Além disso, os resultados de Precisão e AUC estavam resultando no mesmo valor.\n",
        "* O modelo 2 como base de comparação não parece minimamente adequado para o exercício proposto."
      ],
      "metadata": {
        "id": "SVFMo6Aehewv"
      }
    },
    {
      "cell_type": "markdown",
      "source": [
        "\n",
        "**Participantes: Grupo 11**\n",
        "\n",
        "- Guilherme Rafael Zaltran;\n",
        "- Gilmar Ferrari Filho;\n",
        "- Rafael de Oliveira Consonni;\n",
        "- Augusto de Freitas Kelsch;\n",
        "- Bruna Luzia Santos Wehrmann;"
      ],
      "metadata": {
        "id": "NIawEmlvtUP8"
      }
    }
  ],
  "metadata": {
    "colab": {
      "provenance": []
    },
    "kernelspec": {
      "display_name": "Python 3",
      "name": "python3"
    },
    "language_info": {
      "name": "python"
    }
  },
  "nbformat": 4,
  "nbformat_minor": 0
}